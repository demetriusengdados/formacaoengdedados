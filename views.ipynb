{
 "cells": [
  {
   "cell_type": "code",
   "execution_count": null,
   "metadata": {},
   "outputs": [],
   "source": [
    "despachantes.createOrReplaceTempView(\"Despachantes.view1\")\n",
    "spark.sql(\"Selct * from Despachantes.view1\").show()"
   ]
  },
  {
   "cell_type": "code",
   "execution_count": null,
   "metadata": {},
   "outputs": [],
   "source": [
    "despachantes.createOrReplaceGlobalTempView(\"Despachantes.view2\")\n",
    "spark.sql(\"Selct * from global_temp.Despachantes.view2\").show()"
   ]
  },
  {
   "cell_type": "code",
   "execution_count": null,
   "metadata": {},
   "outputs": [],
   "source": [
    "spark.sql(\"Create or replace temp view Desp_view as slecet select * from despachantes\")\n",
    "spark.sql('select * from desp_view').show()"
   ]
  },
  {
   "cell_type": "code",
   "execution_count": null,
   "metadata": {},
   "outputs": [],
   "source": [
    "sparl.sqç('Create or replace global temp view desp_view2 as select * from despachantes')\n",
    "spark.sql(\"select * from global_temp.desp_view2\").show()"
   ]
  }
 ],
 "metadata": {
  "language_info": {
   "name": "python"
  },
  "orig_nbformat": 4
 },
 "nbformat": 4,
 "nbformat_minor": 2
}
