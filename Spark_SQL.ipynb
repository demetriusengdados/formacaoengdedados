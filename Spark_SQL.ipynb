{
  "cells": [
    {
      "cell_type": "code",
      "execution_count": null,
      "metadata": {
        "id": "eyUWW7M99LUB"
      },
      "outputs": [],
      "source": [
        "clientes = sparek.read.load('/C:/Usuarios/Demetrius/dfparquet/Clientes.parquet')\n",
        "clientes.show(2)"
      ]
    },
    {
      "cell_type": "code",
      "execution_count": null,
      "metadata": {
        "id": "3iB_1_L3-kL9"
      },
      "outputs": [],
      "source": [
        "vendas = spark.read.format('parquet').load('/C:/Usuarios/Demetrius/dfimportparquet/Vendas.parquet')\n",
        "vendas.show(2)"
      ]
    },
    {
      "cell_type": "code",
      "execution_count": null,
      "metadata": {
        "id": "yYESpw7o_nTv"
      },
      "outputs": [],
      "source": [
        "clientes.select(\"Cliente\", \"Estado\", \"Status\").show()\n"
      ]
    },
    {
      "cell_type": "code",
      "execution_count": null,
      "metadata": {
        "id": "7994wF7tB_my"
      },
      "outputs": [],
      "source": [
        "atividade1 = clientes.select(\"Cliente\", \"Estado\", \"Status\")\n",
        "atividade1.show()"
      ]
    },
    {
      "cell_type": "code",
      "execution_count": null,
      "metadata": {
        "id": "ycbI1n3xCWqc"
      },
      "outputs": [],
      "source": [
        "from pyspark.sql import functions as Func\n",
        "clientes.select ('*').where((Func.col('Status')==\"Gold\") | (Func.col(\"Status\") == \"Platinum\")).show()\n"
      ]
    },
    {
      "cell_type": "code",
      "execution_count": null,
      "metadata": {
        "id": "vOXV2T8pD_iz"
      },
      "outputs": [],
      "source": [
        "atividade3 = vendas.join(clientes, vendas.ClienteID == clientes.ClientesID).groupBy(cliente.status).agg(SUM(\"Total\")).orderBy(Func.col(\"sum(Total)\").desc())\n",
        "atividade3.show()"
      ]
    },
    {
      "cell_type": "code",
      "execution_count": null,
      "metadata": {},
      "outputs": [],
      "source": []
    }
  ],
  "metadata": {
    "colab": {
      "provenance": []
    },
    "kernelspec": {
      "display_name": "Python 3",
      "name": "python3"
    },
    "language_info": {
      "name": "python"
    }
  },
  "nbformat": 4,
  "nbformat_minor": 0
}
