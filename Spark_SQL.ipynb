{
  "nbformat": 4,
  "nbformat_minor": 0,
  "metadata": {
    "colab": {
      "provenance": [],
      "authorship_tag": "ABX9TyOwHPKfa0+mYsALOhRvLy/V",
      "include_colab_link": true
    },
    "kernelspec": {
      "name": "python3",
      "display_name": "Python 3"
    },
    "language_info": {
      "name": "python"
    }
  },
  "cells": [
    {
      "cell_type": "markdown",
      "metadata": {
        "id": "view-in-github",
        "colab_type": "text"
      },
      "source": [
        "<a href=\"https://colab.research.google.com/github/demetriusengdados/formacaoengdedados/blob/main/Spark_SQL.ipynb\" target=\"_parent\"><img src=\"https://colab.research.google.com/assets/colab-badge.svg\" alt=\"Open In Colab\"/></a>"
      ]
    },
    {
      "cell_type": "code",
      "execution_count": null,
      "metadata": {
        "id": "eyUWW7M99LUB"
      },
      "outputs": [],
      "source": [
        "clientes = sparek.read.load('/C:/Usuarios/Demetrius/dfparquet/Clientes.parquet')\n",
        "clientes.show(2)"
      ]
    },
    {
      "cell_type": "code",
      "source": [
        "vendas = spark.read.format('parquet').load('/C:/Usuarios/Demetrius/dfimportparquet/Vendas.parquet')\n",
        "vendas.show(2)"
      ],
      "metadata": {
        "id": "3iB_1_L3-kL9"
      },
      "execution_count": null,
      "outputs": []
    },
    {
      "cell_type": "code",
      "source": [
        "clientes.select(\"Cliente\", \"Estado\", \"Status\").show()\n"
      ],
      "metadata": {
        "id": "yYESpw7o_nTv"
      },
      "execution_count": null,
      "outputs": []
    },
    {
      "cell_type": "code",
      "source": [
        "atividade1 = clientes.select(\"Cliente\", \"Estado\", \"Status\")\n",
        "atividade1.show()"
      ],
      "metadata": {
        "id": "7994wF7tB_my"
      },
      "execution_count": null,
      "outputs": []
    },
    {
      "cell_type": "code",
      "source": [
        "from pyspark.sql import functions as Func\n",
        "clientes.select ('*').where((Func.col('Status')==\"Gold\") | (Func.col(\"Status\") == \"Platinum\")).show()\n"
      ],
      "metadata": {
        "id": "ycbI1n3xCWqc"
      },
      "execution_count": null,
      "outputs": []
    },
    {
      "cell_type": "code",
      "source": [
        "atividade3 = vendas.join(clientes, vendas.ClienteID == clientes.ClientesID).groupBy(cliente.status).agg(SUM(\"Total\")).orderBy(Func.col(\"sum(Total)\").desc())\n",
        "atividade3.show()"
      ],
      "metadata": {
        "id": "vOXV2T8pD_iz"
      },
      "execution_count": null,
      "outputs": []
    }
  ]
}