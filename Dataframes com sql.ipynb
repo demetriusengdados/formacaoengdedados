{
 "cells": [
  {
   "cell_type": "code",
   "execution_count": null,
   "metadata": {},
   "outputs": [],
   "source": [
    "from pyspark.sql import functions as Func\n",
    "from pyspark.sql.functions import *\n",
    "\n",
    "spark.sql(\"select * from Despachantes\").show()"
   ]
  },
  {
   "cell_type": "code",
   "execution_count": null,
   "metadata": {},
   "outputs": [],
   "source": [
    "despachantes.show()"
   ]
  },
  {
   "cell_type": "code",
   "execution_count": null,
   "metadata": {},
   "outputs": [],
   "source": [
    "spark.sql(\"select nome, vendas from Despachantes\").show()\n",
    "despachantes.select(\"nome, vendas\").show()"
   ]
  },
  {
   "cell_type": "code",
   "execution_count": null,
   "metadata": {},
   "outputs": [],
   "source": [
    "spark.sql(\"select nome, vendas from Despachantes where > 20\").show()\n",
    "despachantes.select(\"nome, vendas\").where(Func.col(\"vendas\") > 20).show()"
   ]
  },
  {
   "cell_type": "code",
   "execution_count": null,
   "metadata": {},
   "outputs": [],
   "source": [
    "spark.sql(\"select cidade, sum(vendas) from Despachantes group by cidade order by 2 desc\").show()\n",
    "despachantes.groupby(\"cidade\").agg(sum(\"vendas\")).orderby(Func.col(\"sum(vendas)\").desc()).show()"
   ]
  }
 ],
 "metadata": {
  "language_info": {
   "name": "python"
  },
  "orig_nbformat": 4
 },
 "nbformat": 4,
 "nbformat_minor": 2
}
