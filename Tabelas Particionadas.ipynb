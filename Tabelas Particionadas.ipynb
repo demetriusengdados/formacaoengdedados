{
 "cells": [
  {
   "cell_type": "code",
   "execution_count": null,
   "metadata": {},
   "outputs": [],
   "source": [
    "despachantes.write.format(\"parquet\").save(\"/C:/Usuarios/Demetrius/desparquet\")\n",
    "despachantes.write.option(\"/C:/Usuarios/Demetrius/desparquet\").saveAstable(\"Despcachantes_ng\")"
   ]
  },
  {
   "cell_type": "code",
   "execution_count": null,
   "metadata": {},
   "outputs": [],
   "source": [
    "spark.sql(\"select * from despachantes_ng\").show()"
   ]
  },
  {
   "cell_type": "code",
   "execution_count": null,
   "metadata": {},
   "outputs": [],
   "source": [
    "spark.sql(\"show create table Despachantes\").show(truncate=False)\n",
    "spark.sql(\"show create table Despachantes_ng\").show(truncate=False)"
   ]
  },
  {
   "cell_type": "code",
   "execution_count": null,
   "metadata": {},
   "outputs": [],
   "source": [
    "spark.catalog.listTables()"
   ]
  }
 ],
 "metadata": {
  "language_info": {
   "name": "python"
  },
  "orig_nbformat": 4
 },
 "nbformat": 4,
 "nbformat_minor": 2
}
